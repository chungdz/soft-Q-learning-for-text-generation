{
 "cells": [
  {
   "cell_type": "code",
   "execution_count": 1,
   "id": "2856f632-8efd-4646-9ce3-8ad7958efc78",
   "metadata": {},
   "outputs": [],
   "source": [
    "import os\n",
    "import hydra\n",
    "from hydra import compose, initialize\n",
    "from omegaconf import DictConfig, OmegaConf"
   ]
  },
  {
   "cell_type": "code",
   "execution_count": null,
   "id": "261718a8-ad85-4648-b20e-098bb1758a4f",
   "metadata": {},
   "outputs": [],
   "source": [
    "initialize(version_base=None, config_path=\"./\", job_name=\"test_app\")\n",
    "config = compose(config_name=\"configs/config\", overrides=['dataset=sst-5', 'dataset_seed=0', 'prompt_length=5', 'task_lm=distilroberta-base', 'random_seed=7', 'report_to_wandb=false'])"
   ]
  }
 ],
 "metadata": {
  "kernelspec": {
   "display_name": "ml",
   "language": "python",
   "name": "ml"
  },
  "language_info": {
   "codemirror_mode": {
    "name": "ipython",
    "version": 3
   },
   "file_extension": ".py",
   "mimetype": "text/x-python",
   "name": "python",
   "nbconvert_exporter": "python",
   "pygments_lexer": "ipython3",
   "version": "3.10.9"
  }
 },
 "nbformat": 4,
 "nbformat_minor": 5
}
